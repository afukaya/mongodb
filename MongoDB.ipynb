{
 "metadata": {
  "language_info": {
   "codemirror_mode": {
    "name": "ipython",
    "version": 3
   },
   "file_extension": ".py",
   "mimetype": "text/x-python",
   "name": "python",
   "nbconvert_exporter": "python",
   "pygments_lexer": "ipython3",
   "version": "3.8.2-final"
  },
  "orig_nbformat": 2,
  "kernelspec": {
   "name": "python_defaultSpec_1597447998964",
   "display_name": "Python 3.8.2 64-bit ('.venv': venv)"
  }
 },
 "nbformat": 4,
 "nbformat_minor": 2,
 "cells": [
  {
   "cell_type": "markdown",
   "metadata": {},
   "source": [
    "# MongoDB\n",
    "\n",
    "## O que é o MongoDB\n",
    "\n",
    "### Banco de dados relacional x Banco de dados não relacional\n",
    "\n",
    "\n",
    "SQL databases use Structured Query Language(SQL) in defining and manipulating data. When using SQL, we need a Relational Database Management System(RDBMS) server such as SQL Server, MySQL server or MS Access. Data in RDBMS is stored in database objects called tables. A table is a collection of related data entries, and it consists of columns and rows.\n",
    "\n",
    "A NoSQL database has a dynamic schema for unstructured data. In NoSQL, data is stored in several ways: it can be column-oriented, document-oriented, graph-based or organized as a key-value store. A NoSQL database has the following advantages:\n",
    "\n",
    " - Documents can be created without having to first define their structure\n",
    " - Each document can have its own unique structure\n",
    " - The syntax can vary from database to database\n",
    " - Large volumes of structured, semi-structured, and unstructured data\n",
    " - Object-oriented programming that is easy to use and flexible\n",
    " - It is horizontally scalable\n",
    "\n",
    "### Tipos de bancos de dados não relacional.\n",
    "\n",
    " - **Document databases** pair each key with a complex data structure known as a document. A document is a set of key-value pairs. MongoDB is an example of a document store database. A group of MongoDB documents is known as a collection. This is the equivalent of an RDBMS table.\n",
    "\n",
    " - **Graph stores** are used to store information about networks of data, for instance, social connections. Graph stores include Neo4J and Giraph.\n",
    "\n",
    " - **Key-value stores** databases store every single item in the database as a key together with its value. Examples of key-value stores are Riak and Berkeley DB. Some key-value stores, such as Redis, allow each value to have a type, such as an integer, which adds functionality.\n",
    "\n",
    " - **Wide-column stores** such as Cassandra and HBase are optimized for queries over large datasets, and store columns of data together, instead of rows.\n",
    "\n"
   ]
  },
  {
   "cell_type": "markdown",
   "metadata": {},
   "source": [
    "### Dicionário de dados\n",
    "\n",
    "| Campo | Tipo | Descrição |\n",
    "| :---- | :--- | :-------- |\n",
    "| regiao | \n",
    "| estado |\n",
    "| municipio |\t\n",
    "| coduf\t |\n",
    "| codmun |\t\n",
    "| codRegiaoSaude |\t\n",
    "| nomeRegiaoSaude |\t\n",
    "| data\t |\n",
    "| semanaEpi |\t\n",
    "| populacaoTCU2019 |\t\n",
    "| casosAcumulado |\n",
    "| casosNovos |\t\n",
    "| obitosAcumulado |\t\n",
    "| obitosNovos |\t\n",
    "| Recuperadosnovos |\t\n",
    "| emAcompanhamentoNovos |\t\n",
    "| interior/metropolitana |"
   ]
  }
 ]
}